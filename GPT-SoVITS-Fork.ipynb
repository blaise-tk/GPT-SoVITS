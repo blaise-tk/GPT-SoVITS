{
  "cells": [
    {
      "cell_type": "code",
      "execution_count": null,
      "metadata": {
        "cellView": "form",
        "id": "e9b7iFV3dm1f"
      },
      "outputs": [],
      "source": [
        "# @title Install packages\n",
        "!pip install -q condacolab\n",
        "import condacolab\n",
        "condacolab.install_from_url(\"https://repo.anaconda.com/miniconda/Miniconda3-py39_23.11.0-2-Linux-x86_64.sh\")\n",
        "%cd -q /content\n",
        "!git clone https://github.com/blaise-tk/GPT-SoVITS-Fork\n",
        "!conda install -y -q -c pytorch -c nvidia cudatoolkit\n",
        "%cd -q /content/GPT-SoVITS-Fork\n",
        "!conda install -y -q -c conda-forge gcc gxx ffmpeg cmake -c pytorch -c nvidia\n",
        "!/usr/local/bin/pip install -r requirements.txt"
      ]
    },
    {
      "cell_type": "code",
      "execution_count": null,
      "metadata": {
        "cellView": "form",
        "id": "0NgxXg5sjv7z"
      },
      "outputs": [],
      "source": [
        "# @title Download pre-trained models\n",
        "!mkdir -p /content/GPT-SoVITS-Fork/GPT_SoVITS/pretrained_models\n",
        "\n",
        "%cd /content/GPT-SoVITS-Fork/GPT_SoVITS/pretrained_models\n",
        "!git clone https://huggingface.co/blaise-tk/GPT-SoVITS-Fork\n",
        "%cd /content/GPT-SoVITS-Fork/tools/asr/models\n",
        "!git clone https://www.modelscope.cn/damo/speech_paraformer-large_asr_nat-zh-cn-16k-common-vocab8404-pytorch.git\n",
        "!git clone https://www.modelscope.cn/damo/speech_fsmn_vad_zh-cn-16k-common-pytorch.git\n",
        "!git clone https://www.modelscope.cn/damo/punc_ct-transformer_zh-cn-common-vocab272727-pytorch.git\n",
        "\n",
        "!git config core.sparseCheckout true\n",
        "!mv /content/GPT-SoVITS-Fork/GPT_SoVITS/pretrained_models/GPT-SoVITS/* /content/GPT-SoVITS-Fork/GPT_SoVITS/pretrained_models/"
      ]
    },
    {
      "cell_type": "code",
      "execution_count": null,
      "metadata": {
        "cellView": "form",
        "id": "4oRGUzkrk8C7"
      },
      "outputs": [],
      "source": [
        "# @title Launch WebUI\n",
        "!/usr/local/bin/pip install ipykernel\n",
        "!sed -i '10s/False/True/' /content/GPT-SoVITS-Fork/config.py\n",
        "%cd /content/GPT-SoVITS-Fork/\n",
        "!/usr/local/bin/python webui.py"
      ]
    }
  ],
  "metadata": {
    "accelerator": "GPU",
    "colab": {
      "provenance": []
    },
    "kernelspec": {
      "display_name": "Python 3",
      "name": "python3"
    }
  },
  "nbformat": 4,
  "nbformat_minor": 0
}
